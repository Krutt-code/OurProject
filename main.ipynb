{
 "cells": [
  {
   "cell_type": "code",
   "execution_count": null,
   "id": "502ff92d-75bd-497e-bdc4-24d8298d0aef",
   "metadata": {},
   "outputs": [],
   "source": [
    "import random\n",
    "\n",
    "def print1():\n",
    "    \"\"\"\n",
    "    Первонаальная фунция, от которой были сделан следующие\n",
    "    \"\"\"\n",
    "    print('Print 1))')\n",
    "\n",
    "def print1_1():\n",
    "    \"\"\"\n",
    "    Краткое описание модуля.\n",
    "\n",
    "    Более подробное описание модуля, если необходимо.\n",
    "    \"\"\"\n",
    "    print('Print 1.1))')\n",
    "    \n",
    "def is_lucky(num) -> bool:\n",
    "    '''\n",
    "    Тестирование этой функции проходит несколько этапов.\n",
    "    По задумке эта функция должна принимать шанс удачного исхода\n",
    "    , и выдавать bool повезло или нет.\n",
    "\n",
    "    По сценаию \"Черный ящик\" нам извесно только то\n",
    "    что эта функция принимает один аргумент и возвращает bool\n",
    "\n",
    "    Этапы проверки:\n",
    "    1. Проверка задуманной работы фунции (передача числа)\n",
    "    2. Проверка результата при непральных значениях, например -1, 0 и по логике > 100\n",
    "    3. Проверка при которой фунции подается случайный аргумент, например строка или массив\n",
    "    '''\n",
    "\n",
    "    return random.random() < (num / 100)\n",
    "\n",
    "def lucky_test():\n",
    "    # 1. Проверка задуманной работы фунции (передача числа)\n",
    "    num = 10\n",
    "    try:\n",
    "        print(f'{num}: ')\n",
    "        print(is_lucky(num))\n",
    "        print('Завершение без ошибок')\n",
    "    except Exception as e:\n",
    "        print('Завершено с ошибкой')\n",
    "        print(e)\n",
    "\n",
    "    print()\n",
    "\n",
    "    # 2. Проверка результата при непральных значениях, например -1, 0 и по логике > 100\n",
    "    num = -1\n",
    "    try:\n",
    "        print(f'{num}: ')\n",
    "        print(is_lucky(num))\n",
    "        print('Завершение без ошибок')\n",
    "    except Exception as e:\n",
    "        print('Завершено с ошибкой')\n",
    "        print(e)\n",
    "\n",
    "    print()\n",
    "\n",
    "    # 3. Проверка при которой фунции подается случайный аргумент, например строка или массив\n",
    "    num = '10'\n",
    "    try:\n",
    "        print(f'{num} - {type(num)}: ')\n",
    "        print(is_lucky(num))\n",
    "        print('Завершение без ошибок')\n",
    "    except Exception as e:\n",
    "        print('Завершено с ошибкой')\n",
    "        print(e)\n",
    "\n",
    "\n",
    "def print2(): \n",
    "    \"\"\"Следующая функция вывода результатов\"\"\"\n",
    "    print('Print 2')\n",
    "\n",
    "def get_unicode(char):\n",
    "    \"\"\"\n",
    "    Эта функция получает символ с клавиатуры и возвращает его код Unicode.\n",
    "    По сценарию нам известен некоторый знак, введенный пользователем, наша функция принимает его и проводит анализ, выводя код символа из Unicode\n",
    "    \"\"\"\n",
    "    \n",
    "    return ord(char)\n",
    "\n",
    "def unicode_test():\n",
    "    char = 'a'\n",
    "    print('Этап 1: Выводим unicode одного символа')\n",
    "    try: \n",
    "        \"\"\"Выводим unicode одного символа\"\"\"\n",
    "        print(get_unicode(char)) \n",
    "    except Exception as e:\n",
    "        print(e)\n",
    "            \n",
    "    char = 'ad'\n",
    "    print('Этап 2: Результат при двух символах')\n",
    "    try:\n",
    "        \"\"\"Результат при двух символах\"\"\"\n",
    "        print(get_unicode(char))\n",
    "    except Exception as e:\n",
    "        print(e)\n",
    "\n",
    "    char = 2\n",
    "    print('Этап 3: Результат при вводе цифры')\n",
    "    try:\n",
    "        \"\"\"Результат при вводе цифры\"\"\"\n",
    "        print(get_unicode(char))\n",
    "    except Exception as e:\n",
    "        print(e)    \n",
    "\n",
    "def main():\n",
    "    print1()\n",
    "    print1_1()\n",
    "    print2()\n",
    "\n",
    "\n",
    "# if __name__ == '__main__':\n",
    "#     unicode_test()"
   ]
  },
  {
   "cell_type": "code",
   "execution_count": null,
   "metadata": {},
   "outputs": [
    {
     "name": "stdout",
     "output_type": "stream",
     "text": [
      "Этап 1: Выводим unicode одного символа\n",
      "97\n",
      "Этап 2: Результат при двух символах\n",
      "ord() expected a character, but string of length 2 found\n",
      "Этап 3: Результат при вводе цифры\n",
      "ord() expected string of length 1, but int found\n"
     ]
    }
   ],
   "source": [
    "unicode_test()"
   ]
  },
  {
   "cell_type": "code",
   "execution_count": null,
   "metadata": {},
   "outputs": [
    {
     "name": "stdout",
     "output_type": "stream",
     "text": [
      "Print 2\n"
     ]
    }
   ],
   "source": [
    "print2()"
   ]
  },
  {
   "cell_type": "code",
   "execution_count": null,
   "metadata": {},
   "outputs": [
    {
     "name": "stdout",
     "output_type": "stream",
     "text": [
      "10: \n",
      "False\n",
      "Завершение без ошибок\n",
      "\n",
      "-1: \n",
      "False\n",
      "Завершение без ошибок\n",
      "\n",
      "10 - <class 'str'>: \n",
      "Завершено с ошибкой\n",
      "unsupported operand type(s) for /: 'str' and 'int'\n"
     ]
    }
   ],
   "source": [
    "lucky_test()"
   ]
  }
 ],
 "metadata": {
  "language_info": {
   "codemirror_mode": {
    "name": "ipython",
    "version": 3
   },
   "file_extension": ".py",
   "mimetype": "text/x-python",
   "name": "python",
   "nbconvert_exporter": "python",
   "pygments_lexer": "ipython3",
   "version": 3
  }
 },
 "nbformat": 4,
 "nbformat_minor": 2
}
